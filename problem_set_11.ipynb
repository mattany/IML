{
  "cells": [
    {
      "cell_type": "markdown",
      "metadata": {
        "id": "view-in-github",
        "colab_type": "text"
      },
      "source": [
        "<a href=\"https://colab.research.google.com/github/mattany/IML/blob/main/problem_set_11.ipynb\" target=\"_parent\"><img src=\"https://colab.research.google.com/assets/colab-badge.svg\" alt=\"Open In Colab\"/></a>"
      ]
    },
    {
      "cell_type": "markdown",
      "metadata": {
        "id": "6SwfF8Yq1GtB"
      },
      "source": [
        "Imports"
      ]
    },
    {
      "cell_type": "code",
      "execution_count": 60,
      "metadata": {
        "id": "QdP4gnaA1DUT"
      },
      "outputs": [],
      "source": [
        "import numpy as np\n",
        "import matplotlib.pyplot as plt\n",
        "\n",
        "\n",
        "np.random.seed(0)"
      ]
    },
    {
      "cell_type": "markdown",
      "metadata": {
        "id": "y5BUzjyEBvOk"
      },
      "source": [
        "2.b. It's interesting how similar the ouptut of the perceptron on the first and second training sets is."
      ]
    },
    {
      "cell_type": "markdown",
      "metadata": {
        "id": "XWh_aIg-1Mtw"
      },
      "source": [
        "Draw the axes:"
      ]
    },
    {
      "cell_type": "code",
      "execution_count": 61,
      "metadata": {
        "colab": {
          "base_uri": "https://localhost:8080/",
          "height": 248
        },
        "id": "jKZpL92m1BD5",
        "outputId": "c945a774-f47e-4b22-dade-ca8ba7d64be8"
      },
      "outputs": [
        {
          "output_type": "display_data",
          "data": {
            "text/plain": [
              "<Figure size 432x288 with 1 Axes>"
            ],
            "image/png": "[encoded data removed]"
          },
          "metadata": {
            "needs_background": "light"
          }
        }
      ],
      "source": [
        "pos_dist_size = 2**7\n",
        "def plot_axes():\n",
        "    fig = plt.figure()\n",
        "    ax = fig.add_subplot(1, 1, 1)\n",
        "    plt.xlim(-pos_dist_size, pos_dist_size)\n",
        "    plt.ylim(-pos_dist_size, pos_dist_size)\n",
        "    plt.gca().set_aspect('equal', adjustable='box')\n",
        "\n",
        "    # Move left y-axis and bottim x-axis to centre, passing through (0,0)\n",
        "    ax.spines['left'].set_position('zero')\n",
        "    ax.spines['bottom'].set_position('zero')\n",
        "\n",
        "    # Eliminate upper and right axes\n",
        "    ax.spines['right'].set_color('none')\n",
        "    ax.spines['top'].set_color('none')\n",
        "plot_axes()"
      ]
    },
    {
      "cell_type": "markdown",
      "metadata": {
        "id": "3fB0qDDBx0-a"
      },
      "source": [
        "Draw a random line:"
      ]
    },
    {
      "cell_type": "code",
      "execution_count": 62,
      "metadata": {
        "id": "-Ny-2V-PtUS7"
      },
      "outputs": [],
      "source": [
        "def random_hyperplane(d):\n",
        "    plane = pos_dist_size * 2 * np.random.random_sample(size=(d, d)) - pos_dist_size\n",
        "    ones = np.empty(d)\n",
        "    ones.fill(1)\n",
        "    w = np.linalg.solve(plane, ones)\n",
        "    w = np.append(-1, w) # Homogenize\n",
        "    return w\n",
        "\n",
        "# m, n = random_line()\n",
        "\n",
        "    \n",
        "w_star = random_hyperplane(2)"
      ]
    },
    {
      "cell_type": "markdown",
      "metadata": {
        "id": "B-P6rvcj5IP5"
      },
      "source": [
        "Generate the inputs:"
      ]
    },
    {
      "cell_type": "code",
      "execution_count": 63,
      "metadata": {
        "id": "fBbEf-mY2Q5I"
      },
      "outputs": [],
      "source": [
        "def gen_inputs(n, d):\n",
        "    inputs = pos_dist_size * 2 * np.random.random_sample(size=(n, d)) - pos_dist_size\n",
        "    inputs = np.c_[np.ones(inputs.shape[0]), inputs] # Homogenize\n",
        "    return inputs\n",
        "\n",
        "inputs = gen_inputs(20, 2)"
      ]
    },
    {
      "cell_type": "markdown",
      "metadata": {
        "id": "g2K6b-eXxe6h"
      },
      "source": [
        "Evaluate the inputs and plot the outputs:"
      ]
    },
    {
      "cell_type": "code",
      "execution_count": 64,
      "metadata": {
        "id": "xJ1NlBtCxegJ"
      },
      "outputs": [],
      "source": [
        "def evaluate_point(w, x):\n",
        "    return np.dot(w, x) > 0\n",
        "\n",
        "def evaluate_points(inputs, w):\n",
        "    return [evaluate_point(w, input) for input in inputs]\n",
        " \n",
        "\n",
        "def get_plot_coords(w):\n",
        "\n",
        "    Xs = [-pos_dist_size, pos_dist_size, 0]\n",
        "    Ys = [\n",
        "        (-w[0] - w[1] * Xs[0]) / w[2],\n",
        "        (-w[0] - w[1] * Xs[1]) / w[2],\n",
        "        (-w[0] - w[1] * Xs[2]) / w[2]\n",
        "    ]\n",
        "    return Xs, Ys\n",
        "\n",
        "outputs = evaluate_points(inputs, w_star)\n",
        "\n",
        "\n",
        "\n",
        "\n",
        "def plot_outputs(w, w_star, inputs, outputs):\n",
        "    plot_axes()\n",
        "    red_Xs = [ inputs[i][1] for i in range(len(inputs)) if outputs[i] == 1]\n",
        "    red_Ys = [ inputs[i][2] for i in range(len(inputs)) if outputs[i] == 1]\n",
        "    blue_Xs = [ inputs[i][1] for i in range(len(inputs)) if outputs[i] == 0 ]\n",
        "    blue_Ys = [ inputs[i][2] for i in range(len(inputs)) if outputs[i] == 0 ]\n",
        "    plt.scatter(red_Xs, red_Ys, color=\"magenta\")\n",
        "    plt.scatter(blue_Xs, blue_Ys, color=\"turquoise\")\n",
        "    plt.plot(*get_plot_coords(w),  label=\"f - target function\", color=\"red\")\n",
        "    plt.plot(*get_plot_coords(w_star), label=\"g - final hypothesis\", color=\"green\")\n",
        "    plt.legend()"
      ]
    },
    {
      "cell_type": "code",
      "execution_count": 65,
      "metadata": {
        "colab": {
          "base_uri": "https://localhost:8080/",
          "height": 284
        },
        "id": "zUhUnWoL7IK0",
        "outputId": "04b641c3-65fa-4aba-ac5b-0b197b5e4662"
      },
      "outputs": [
        {
          "output_type": "stream",
          "name": "stdout",
          "text": [
            "a. Converged in 3483 updates\n",
            "c. f and g are visibly different\n"
          ]
        },
        {
          "output_type": "display_data",
          "data": {
            "text/plain": [
              "<Figure size 432x288 with 1 Axes>"
            ],
            "image/png": "[encoded data removed]"
          },
          "metadata": {
            "needs_background": "light"
          }
        }
      ],
      "source": [
        "def get_misclassified(w, inputs, outputs):\n",
        "    for i, inp in enumerate(inputs):\n",
        "        if outputs[i] ^ (np.dot(w, inp) > 0):\n",
        "            return i\n",
        "    return -1\n",
        "\n",
        "\n",
        "def perceptron(inputs, outputs):\n",
        "    shape = np.shape(inputs[0])\n",
        "    w = np.zeros(shape)\n",
        "    misclassified = get_misclassified(w, inputs, outputs)\n",
        "    steps = 0\n",
        "    misses, prev_misses = 0, 0\n",
        "    done = False\n",
        "    while not done:\n",
        "        done = True\n",
        "        for i, inp in enumerate(inputs):\n",
        "            res_i = np.dot(w, inp) > 0\n",
        "            if outputs[i] ^ res_i:\n",
        "                done = False\n",
        "                y_i = 1 if outputs[i] else -1\n",
        "                w += y_i * inp   \n",
        "                steps +=1\n",
        "                if steps %10000 == 0:\n",
        "                    print(steps, misses - prev_misses, misses)\n",
        "                    prev_misses = misses\n",
        "            else:\n",
        "                misses += 1\n",
        "    print(f\"a. Converged in {steps} updates\")\n",
        "    return w\n",
        "\n",
        "w = perceptron(inputs, outputs)\n",
        "plot_outputs(w, w_star, inputs, outputs)\n",
        "print(f\"c. f and g are visibly different\")"
      ]
    },
    {
      "cell_type": "markdown",
      "metadata": {
        "id": "j1b6EX9W3C2g"
      },
      "source": [
        "2.a.a-c can be seen above. Now we generate test data and calculate the error."
      ]
    },
    {
      "cell_type": "markdown",
      "metadata": {
        "id": "fdFlf9-8-t2v"
      },
      "source": [
        "Generate some test data:"
      ]
    },
    {
      "cell_type": "code",
      "execution_count": 66,
      "metadata": {
        "id": "6aPTKGDZ-sg6"
      },
      "outputs": [],
      "source": [
        "test_inputs = gen_inputs(100, 2)\n"
      ]
    },
    {
      "cell_type": "markdown",
      "metadata": {
        "id": "8EePjybp_ZX_"
      },
      "source": [
        "2.a.d."
      ]
    },
    {
      "cell_type": "code",
      "execution_count": 67,
      "metadata": {
        "colab": {
          "base_uri": "https://localhost:8080/"
        },
        "id": "YL920FwG3SLD",
        "outputId": "cabd82b8-2755-4e43-f86a-ca0966804953"
      },
      "outputs": [
        {
          "output_type": "stream",
          "name": "stdout",
          "text": [
            "d. f and g disagree on 0.045 of the points\n"
          ]
        }
      ],
      "source": [
        "\n",
        "def calculate_error(test_inputs, w, w_star):\n",
        "    n = len(test_inputs)\n",
        "    test_outputs = evaluate_points(test_inputs, w_star)\n",
        "    actual_outputs = evaluate_points(test_inputs, w)\n",
        "    return sum([test_outputs[i] ^ actual_outputs[i] for i in range(n)]) / 200\n",
        "\n",
        "print(f\"d. f and g disagree on {calculate_error(test_inputs, w, w_star)} of the points\")"
      ]
    },
    {
      "cell_type": "markdown",
      "metadata": {
        "id": "49MPTqGc_8fL"
      },
      "source": [
        "2.b. It's interesting how similar the ouptut of the perceptron on the first and second training sets is."
      ]
    },
    {
      "cell_type": "code",
      "execution_count": 68,
      "metadata": {
        "id": "XwA94TmNA6_m"
      },
      "outputs": [],
      "source": [
        "b_inputs = gen_inputs(20, 2)\n",
        "b_outputs = evaluate_points(b_inputs, w_star)"
      ]
    },
    {
      "cell_type": "code",
      "execution_count": 69,
      "metadata": {
        "colab": {
          "base_uri": "https://localhost:8080/",
          "height": 302
        },
        "id": "zd4U3qlB__P2",
        "outputId": "f557e67d-ece5-4dfa-abbb-5ea63df09ad6"
      },
      "outputs": [
        {
          "output_type": "stream",
          "name": "stdout",
          "text": [
            "a. Converged in 2638 updates\n",
            "c. f and g are visibly different\n",
            "d. f and g disagree on 0.055 of the points\n"
          ]
        },
        {
          "output_type": "display_data",
          "data": {
            "text/plain": [
              "<Figure size 432x288 with 1 Axes>"
            ],
            "image/png": "[encoded data removed]"
          },
          "metadata": {
            "needs_background": "light"
          }
        }
      ],
      "source": [
        "\n",
        "b_w = perceptron(b_inputs, b_outputs)\n",
        "plot_outputs(b_w, w_star, b_inputs, b_outputs)\n",
        "print(f\"c. f and g are visibly different\")\n",
        "print(f\"d. f and g disagree on {calculate_error(test_inputs, b_w, w_star)} of the points\")"
      ]
    },
    {
      "cell_type": "markdown",
      "metadata": {
        "id": "ROGZRj49B8bw"
      },
      "source": [
        "2.c. The time to converge grew a lot, and the result is more accurate."
      ]
    },
    {
      "cell_type": "code",
      "execution_count": 70,
      "metadata": {
        "id": "aNDGJ5GHBvOr"
      },
      "outputs": [],
      "source": [
        "c_inputs = gen_inputs(100, 2)\n",
        "c_outputs = evaluate_points(c_inputs, w_star)"
      ]
    },
    {
      "cell_type": "code",
      "execution_count": 71,
      "metadata": {
        "colab": {
          "base_uri": "https://localhost:8080/",
          "height": 302
        },
        "id": "sewUevMBBvOs",
        "outputId": "c228a41d-3baa-409c-e2bc-985e23bd7eed"
      },
      "outputs": [
        {
          "output_type": "stream",
          "name": "stdout",
          "text": [
            "a. Converged in 4067 updates\n",
            "c. f and g are much closer than before.\n",
            "d. f and g disagree on 0.01 of the points\n"
          ]
        },
        {
          "output_type": "display_data",
          "data": {
            "text/plain": [
              "<Figure size 432x288 with 1 Axes>"
            ],
            "image/png": "[encoded data removed]"
          },
          "metadata": {
            "needs_background": "light"
          }
        }
      ],
      "source": [
        "\n",
        "c_w = perceptron(c_inputs, c_outputs)\n",
        "plot_outputs(c_w, w_star, c_inputs, c_outputs)\n",
        "print(f\"c. f and g are much closer than before.\")\n",
        "print(f\"d. f and g disagree on {calculate_error(test_inputs, c_w, w_star)} of the points\")"
      ]
    },
    {
      "cell_type": "markdown",
      "metadata": {
        "id": "_8PZ-akhDc5w"
      },
      "source": [
        "2.d. The time to converge grew marginally more, and now the lines are nearly indistinguishable.\n",
        "\n"
      ]
    },
    {
      "cell_type": "code",
      "execution_count": 72,
      "metadata": {
        "id": "OLTP9lorDc52"
      },
      "outputs": [],
      "source": [
        "d_inputs = gen_inputs(1000, 2)\n",
        "d_outputs = evaluate_points(d_inputs, w_star)"
      ]
    },
    {
      "cell_type": "code",
      "execution_count": 73,
      "metadata": {
        "colab": {
          "base_uri": "https://localhost:8080/",
          "height": 302
        },
        "id": "eBEgEaqvDc52",
        "outputId": "0cb3e837-6fd4-4fce-896f-85228275ed96"
      },
      "outputs": [
        {
          "output_type": "stream",
          "name": "stdout",
          "text": [
            "a. Converged in 7902 updates\n",
            "c. f and g are almost the same.\n",
            "d. f and g disagree on 0.0 of the points\n"
          ]
        },
        {
          "output_type": "display_data",
          "data": {
            "text/plain": [
              "<Figure size 432x288 with 1 Axes>"
            ],
            "image/png": "[encoded data removed]"
          },
          "metadata": {
            "needs_background": "light"
          }
        }
      ],
      "source": [
        "d_w = perceptron(d_inputs, d_outputs)\n",
        "plot_outputs(d_w, w_star, d_inputs, d_outputs)\n",
        "print(f\"c. f and g are almost the same.\")\n",
        "print(f\"d. f and g disagree on {calculate_error(test_inputs, d_w, w_star)} of the points\")"
      ]
    },
    {
      "cell_type": "markdown",
      "metadata": {
        "id": "r1qVuiU4Emx0"
      },
      "source": [
        "2.e. Randomized perceptron"
      ]
    },
    {
      "cell_type": "code",
      "execution_count": 74,
      "metadata": {
        "id": "KJICB0-LVtHm"
      },
      "outputs": [],
      "source": [
        "e_w_star = random_hyperplane(10)\n",
        "e_inputs = gen_inputs(1000, 10)"
      ]
    },
    {
      "cell_type": "code",
      "execution_count": 76,
      "metadata": {
        "colab": {
          "base_uri": "https://localhost:8080/"
        },
        "id": "xbDNm4YLEq7K",
        "outputId": "91edee96-0497-401b-9d85-fa441d3bdc19"
      },
      "outputs": [
        {
          "output_type": "stream",
          "name": "stdout",
          "text": [
            "10000 133820 133820\n",
            "20000 163744 297564\n",
            "30000 199180 496744\n",
            "40000 231607 728351\n",
            "50000 260675 989026\n",
            "60000 287787 1276813\n",
            "70000 322983 1599796\n",
            "80000 357238 1957034\n",
            "90000 391031 2348065\n",
            "100000 429721 2777786\n",
            "110000 469571 3247357\n",
            "120000 493811 3741168\n",
            "130000 531628 4272796\n",
            "140000 558576 4831372\n",
            "150000 591780 5423152\n",
            "160000 617634 6040786\n",
            "170000 641921 6682707\n",
            "180000 670492 7353199\n",
            "190000 680980 8034179\n",
            "200000 701193 8735372\n",
            "210000 734066 9469438\n",
            "220000 738300 10207738\n",
            "230000 756461 10964199\n",
            "240000 778384 11742583\n",
            "250000 811230 12553813\n",
            "260000 814894 13368707\n",
            "270000 839933 14208640\n",
            "280000 857798 15066438\n",
            "a. Converged in 282803 updates\n"
          ]
        },
        {
          "output_type": "execute_result",
          "data": {
            "text/plain": [
              "array([-89093.        ,   -952.04357721,  -3205.49207844,   -176.35192421,\n",
              "         4742.54806153,    157.15920775,  -2169.74508428,   -354.76911647,\n",
              "         1077.79257035,   -820.31245224,   3005.25985527])"
            ]
          },
          "metadata": {},
          "execution_count": 76
        }
      ],
      "source": [
        "# def get_next_misclassified(w, inputs, outputs):\n",
        "#     for i in range(np.random.randint(1000)):\n",
        "\n",
        "#     all_indexes = np.arange(len(inputs))\n",
        "#     misclassified = np.fromiter((x for x in all_indexes if evaluate_point(w, inputs[x]) == outputs[x]), dtype=all_indexes.dtype)\n",
        "#     np.random.shuffle(misclassified)\n",
        "#     return misclassified[0]\n",
        "\n",
        "# def perceptron_random(inputs, outputs):\n",
        "#     n = len(inputs)\n",
        "#     shape = np.shape(inputs[0])\n",
        "#     w = np.zeros(shape)\n",
        "#     misclassified = get_next_misclassified(w, inputs, outputs)\n",
        "#     steps = 0\n",
        "#     misses = 0\n",
        "#     while misclassified.size:\n",
        "#         for index in misclassified:\n",
        "#             while outputs[index] * np.dot(w, x) < 0: \n",
        "#                 w += outputs[misclassified] * inputs[misclassified]\n",
        "#                 steps += 1\n",
        "#                 if steps % 10000 == 0:\n",
        "#                     print(steps, misses)\n",
        "#                     misses = 0\n",
        "#             else:\n",
        "#                 misses += 1\n",
        "#         misclassified = get_next_misclassified(w, inputs, outputs)\n",
        "\n",
        "#     print(f\"a. Converged in {steps} updates\")\n",
        "#     return w\n",
        "\n",
        "e_outputs = evaluate_points(e_inputs, e_w_star)\n",
        "perceptron(e_inputs, e_outputs)"
      ]
    }
  ],
  "metadata": {
    "colab": {
      "toc_visible": true,
      "provenance": [],
      "authorship_tag": "ABX9TyPqjCYW/awSNtCDX5Wz/Ict",
      "include_colab_link": true
    },
    "kernelspec": {
      "display_name": "Python 3",
      "name": "python3"
    },
    "language_info": {
      "name": "python"
    }
  },
  "nbformat": 4,
  "nbformat_minor": 0
}