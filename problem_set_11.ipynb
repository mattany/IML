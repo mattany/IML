{
  "nbformat": 4,
  "nbformat_minor": 0,
  "metadata": {
    "colab": {
      "provenance": [],
      "toc_visible": true,
      "authorship_tag": "ABX9TyNUnyTdQs7DrjVN3+KKMbwK",
      "include_colab_link": true
    },
    "kernelspec": {
      "name": "python3",
      "display_name": "Python 3"
    },
    "language_info": {
      "name": "python"
    }
  },
  "cells": [
    {
      "cell_type": "markdown",
      "metadata": {
        "id": "view-in-github",
        "colab_type": "text"
      },
      "source": [
        "<a href=\"https://colab.research.google.com/github/mattany/IML/blob/main/problem_set_11.ipynb\" target=\"_parent\"><img src=\"https://colab.research.google.com/assets/colab-badge.svg\" alt=\"Open In Colab\"/></a>"
      ]
    },
    {
      "cell_type": "markdown",
      "source": [
        "Imports"
      ],
      "metadata": {
        "id": "6SwfF8Yq1GtB"
      }
    },
    {
      "cell_type": "code",
      "source": [
        "import numpy as np\n",
        "import matplotlib.pyplot as plt\n",
        "\n",
        "\n",
        "np.random.seed(0)"
      ],
      "metadata": {
        "id": "QdP4gnaA1DUT"
      },
      "execution_count": 76,
      "outputs": []
    },
    {
      "cell_type": "markdown",
      "source": [
        "Draw the axes:"
      ],
      "metadata": {
        "id": "XWh_aIg-1Mtw"
      }
    },
    {
      "cell_type": "code",
      "source": [
        "pos_dist_size = 256\n",
        "\n",
        "def plot_axes():\n",
        "    fig = plt.figure()\n",
        "    ax = fig.add_subplot(1, 1, 1)\n",
        "    plt.xlim(-pos_dist_size, pos_dist_size)\n",
        "    plt.ylim(-pos_dist_size, pos_dist_size)\n",
        "    plt.gca().set_aspect('equal', adjustable='box')\n",
        "\n",
        "    # Move left y-axis and bottim x-axis to centre, passing through (0,0)\n",
        "    ax.spines['left'].set_position('zero')\n",
        "    ax.spines['bottom'].set_position('zero')\n",
        "\n",
        "    # Eliminate upper and right axes\n",
        "    ax.spines['right'].set_color('none')\n",
        "    ax.spines['top'].set_color('none')\n",
        "\n",
        "plot_axes()"
      ],
      "metadata": {
        "colab": {
          "base_uri": "https://localhost:8080/",
          "height": 248
        },
        "id": "jKZpL92m1BD5",
        "outputId": "816aa765-455c-46ef-e2a4-31988f27c6b0"
      },
      "execution_count": 77,
      "outputs": [
        {
          "output_type": "display_data",
          "data": {
            "text/plain": [
              "<Figure size 432x288 with 1 Axes>"
            ],
            "image/png": "[encoded data removed]"
          },
          "metadata": {
            "needs_background": "light"
          }
        }
      ]
    },
    {
      "cell_type": "markdown",
      "source": [
        "Draw a random line:"
      ],
      "metadata": {
        "id": "3fB0qDDBx0-a"
      }
    },
    {
      "cell_type": "code",
      "execution_count": 78,
      "metadata": {
        "colab": {
          "base_uri": "https://localhost:8080/",
          "height": 248
        },
        "id": "-Ny-2V-PtUS7",
        "outputId": "20d0e836-1e47-43ee-90d2-edbf21b3fb7e"
      },
      "outputs": [
        {
          "output_type": "display_data",
          "data": {
            "text/plain": [
              "<Figure size 432x288 with 1 Axes>"
            ],
            "image/png": "[encoded data removed]"
          },
          "metadata": {
            "needs_background": "light"
          }
        }
      ],
      "source": [
        "def random_hyperplane(d):\n",
        "    plane = np.random.randint(2*pos_dist_size,size=(d, d)) - pos_dist_size\n",
        "    ones = np.empty(d)\n",
        "    ones.fill(1)\n",
        "    w = np.linalg.solve(plane, ones)\n",
        "    w = np.append(-1, w) # Homogenize\n",
        "    return w\n",
        "\n",
        "# m, n = random_line()\n",
        "def plot_line(w, color):\n",
        "    plot_axes()\n",
        "    Xs = [-pos_dist_size, pos_dist_size, 0]\n",
        "    Ys = [\n",
        "        (-w[0] - w[1] * Xs[0]) / w[2],\n",
        "        (-w[0] - w[1] * Xs[1]) / w[2],\n",
        "        (-w[0] - w[1] * Xs[2]) / w[2]\n",
        "    ]\n",
        "    plt.plot(Xs, Ys, color)\n",
        "    \n",
        "w_star = random_hyperplane(2)\n",
        "plot_line(w_star)"
      ]
    },
    {
      "cell_type": "markdown",
      "source": [
        "Generate the inputs:"
      ],
      "metadata": {
        "id": "B-P6rvcj5IP5"
      }
    },
    {
      "cell_type": "code",
      "source": [
        "def gen_inputs(n, d):\n",
        "    inputs = np.random.randint(2**9,size=(n, d)) - 2**8\n",
        "    inputs = np.c_[np.ones(inputs.shape[0]), inputs] # Homogenize\n",
        "    return inputs\n",
        "\n",
        "inputs = gen_inputs(20, 2)"
      ],
      "metadata": {
        "id": "fBbEf-mY2Q5I"
      },
      "execution_count": null,
      "outputs": []
    },
    {
      "cell_type": "markdown",
      "source": [
        "Evaluate the inputs and plot the outputs:"
      ],
      "metadata": {
        "id": "g2K6b-eXxe6h"
      }
    },
    {
      "cell_type": "code",
      "source": [
        "def evaluate_point(w, x):\n",
        "    return 1 if np.dot(w, x) > 0 else -1\n",
        "\n",
        "def evaluate_points(inputs, w):\n",
        "    return [evaluate_point(w, input) for input in inputs]\n",
        " \n",
        " \n",
        "outputs = evaluate_points(inputs, w)\n",
        "\n",
        "def plot_outputs(w, w_star, inputs, outputs):\n",
        "    plot_line(w, \"red\")\n",
        "    plot_line(w_star, \"green\")\n",
        "    red_Xs = [ inputs[i][1] for i in range(len(inputs)) if outputs[i] == 1]\n",
        "    red_Ys = [ inputs[i][2] for i in range(len(inputs)) if outputs[i] == 1]\n",
        "    blue_Xs = [ inputs[i][1] for i in range(len(inputs)) if outputs[i] == -1 ]\n",
        "    blue_Ys = [ inputs[i][2] for i in range(len(inputs)) if outputs[i] == -1 ]\n",
        "\n",
        "    plt.scatter(red_Xs, red_Ys, color=\"red\")\n",
        "    plt.scatter(blue_Xs, blue_Ys, color=\"turquoise\")\n",
        "    plt.show()\n",
        "\n",
        "plot_outputs(w_star, inputs, outputs)"
      ],
      "metadata": {
        "colab": {
          "base_uri": "https://localhost:8080/",
          "height": 248
        },
        "id": "xJ1NlBtCxegJ",
        "outputId": "00b3ebf8-b88a-46f2-90c8-767f116100f3"
      },
      "execution_count": 79,
      "outputs": [
        {
          "output_type": "display_data",
          "data": {
            "text/plain": [
              "<Figure size 432x288 with 1 Axes>"
            ],
            "image/png": "[encoded data removed]"
          },
          "metadata": {
            "needs_background": "light"
          }
        }
      ]
    },
    {
      "cell_type": "code",
      "source": [
        "def get_misclassified(w, inputs, outputs):\n",
        "    for i, inp in enumerate(inputs):\n",
        "        if outputs[i] != evaluate_point(w, inp):\n",
        "            return i\n",
        "    return -1\n",
        "\n",
        "\n",
        "def perceptron(inputs, outputs):\n",
        "    w = np.zeros(np.shape(inputs[0]))\n",
        "    misclassified = get_misclassified(w, inputs, outputs)\n",
        "    steps = 0\n",
        "    done = False\n",
        "    while not done:\n",
        "        done = True\n",
        "        for i, inp in enumerate(inputs):\n",
        "            if outputs[i] != evaluate_point(w, inp):\n",
        "                done = False\n",
        "                w += outputs[i] * inp\n",
        "                steps +=1\n",
        "    print(f\"Converged in {steps} updates\")\n",
        "    plot_line(w_star)\n",
        "    plot_outputs(w, inputs, outputs)\n",
        "        \n",
        "perceptron(inputs, outputs)"
      ],
      "metadata": {
        "colab": {
          "base_uri": "https://localhost:8080/",
          "height": 496
        },
        "id": "zUhUnWoL7IK0",
        "outputId": "561c200a-8e04-4b40-c0e0-da9485a42e0e"
      },
      "execution_count": 81,
      "outputs": [
        {
          "output_type": "stream",
          "name": "stdout",
          "text": [
            "Converged in 731 updates\n"
          ]
        },
        {
          "output_type": "display_data",
          "data": {
            "text/plain": [
              "<Figure size 432x288 with 1 Axes>"
            ],
            "image/png": "[encoded data removed]"
          },
          "metadata": {
            "needs_background": "light"
          }
        },
        {
          "output_type": "display_data",
          "data": {
            "text/plain": [
              "<Figure size 432x288 with 1 Axes>"
            ],
            "image/png": "[encoded data removed]"
          },
          "metadata": {
            "needs_background": "light"
          }
        }
      ]
    }
  ]
}