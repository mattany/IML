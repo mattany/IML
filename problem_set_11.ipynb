{
  "nbformat": 4,
  "nbformat_minor": 0,
  "metadata": {
    "colab": {
      "provenance": [],
      "toc_visible": true,
      "authorship_tag": "ABX9TyNJMcOJPHUfYtWAtSDQV/tN",
      "include_colab_link": true
    },
    "kernelspec": {
      "name": "python3",
      "display_name": "Python 3"
    },
    "language_info": {
      "name": "python"
    }
  },
  "cells": [
    {
      "cell_type": "markdown",
      "metadata": {
        "id": "view-in-github",
        "colab_type": "text"
      },
      "source": [
        "<a href=\"https://colab.research.google.com/github/mattany/IML/blob/main/problem_set_11.ipynb\" target=\"_parent\"><img src=\"https://colab.research.google.com/assets/colab-badge.svg\" alt=\"Open In Colab\"/></a>"
      ]
    },
    {
      "cell_type": "markdown",
      "source": [
        "Imports"
      ],
      "metadata": {
        "id": "6SwfF8Yq1GtB"
      }
    },
    {
      "cell_type": "code",
      "source": [
        "import numpy as np\n",
        "import matplotlib.pyplot as plt\n",
        "\n",
        "\n",
        "np.random.seed(0)"
      ],
      "metadata": {
        "id": "QdP4gnaA1DUT"
      },
      "execution_count": 5,
      "outputs": []
    },
    {
      "cell_type": "markdown",
      "source": [
        "2.b. It's interesting how similar the ouptut of the perceptron on the first and second training sets is."
      ],
      "metadata": {
        "id": "y5BUzjyEBvOk"
      }
    },
    {
      "cell_type": "markdown",
      "source": [
        "Draw the axes:"
      ],
      "metadata": {
        "id": "XWh_aIg-1Mtw"
      }
    },
    {
      "cell_type": "code",
      "source": [
        "pos_dist_size = 2**7\n",
        "def plot_axes():\n",
        "    fig = plt.figure()\n",
        "    ax = fig.add_subplot(1, 1, 1)\n",
        "    plt.xlim(-pos_dist_size, pos_dist_size)\n",
        "    plt.ylim(-pos_dist_size, pos_dist_size)\n",
        "    plt.gca().set_aspect('equal', adjustable='box')\n",
        "\n",
        "    # Move left y-axis and bottim x-axis to centre, passing through (0,0)\n",
        "    ax.spines['left'].set_position('zero')\n",
        "    ax.spines['bottom'].set_position('zero')\n",
        "\n",
        "    # Eliminate upper and right axes\n",
        "    ax.spines['right'].set_color('none')\n",
        "    ax.spines['top'].set_color('none')\n",
        "plot_axes()"
      ],
      "metadata": {
        "id": "jKZpL92m1BD5",
        "colab": {
          "base_uri": "https://localhost:8080/",
          "height": 248
        },
        "outputId": "65171ea0-5abc-43bf-b365-71bd0ec6f28f"
      },
      "execution_count": 6,
      "outputs": [
        {
          "output_type": "display_data",
          "data": {
            "text/plain": [
              "<Figure size 432x288 with 1 Axes>"
            ],
            "image/png": "[encoded data removed]"
          },
          "metadata": {
            "needs_background": "light"
          }
        }
      ]
    },
    {
      "cell_type": "markdown",
      "source": [
        "Draw a random line:"
      ],
      "metadata": {
        "id": "3fB0qDDBx0-a"
      }
    },
    {
      "cell_type": "code",
      "execution_count": 7,
      "metadata": {
        "id": "-Ny-2V-PtUS7"
      },
      "outputs": [],
      "source": [
        "def random_hyperplane(d):\n",
        "    plane = pos_dist_size * 2 * np.random.random_sample(size=(d, d)) - pos_dist_size\n",
        "    ones = np.empty(d)\n",
        "    ones.fill(1)\n",
        "    w = np.linalg.solve(plane, ones)\n",
        "    w = np.append(-1, w) # Homogenize\n",
        "    return w\n",
        "\n",
        "# m, n = random_line()\n",
        "\n",
        "    \n",
        "w_star = random_hyperplane(2)"
      ]
    },
    {
      "cell_type": "markdown",
      "source": [
        "Generate the inputs:"
      ],
      "metadata": {
        "id": "B-P6rvcj5IP5"
      }
    },
    {
      "cell_type": "code",
      "source": [
        "def gen_inputs(n, d):\n",
        "    inputs = pos_dist_size * 2 * np.random.random_sample(size=(n, d)) - pos_dist_size\n",
        "    inputs = np.c_[np.ones(inputs.shape[0]), inputs] # Homogenize\n",
        "    return inputs\n",
        "\n",
        "inputs = gen_inputs(20, 2)"
      ],
      "metadata": {
        "id": "fBbEf-mY2Q5I"
      },
      "execution_count": 8,
      "outputs": []
    },
    {
      "cell_type": "markdown",
      "source": [
        "Evaluate the inputs and plot the outputs:"
      ],
      "metadata": {
        "id": "g2K6b-eXxe6h"
      }
    },
    {
      "cell_type": "code",
      "source": [
        "def evaluate_point(w, x):\n",
        "    return 1 if np.dot(w, x) > 0 else -1\n",
        "\n",
        "def evaluate_points(inputs, w):\n",
        "    return [evaluate_point(w, input) for input in inputs]\n",
        " \n",
        "\n",
        "def get_plot_coords(w):\n",
        "\n",
        "    Xs = [-pos_dist_size, pos_dist_size, 0]\n",
        "    Ys = [\n",
        "        (-w[0] - w[1] * Xs[0]) / w[2],\n",
        "        (-w[0] - w[1] * Xs[1]) / w[2],\n",
        "        (-w[0] - w[1] * Xs[2]) / w[2]\n",
        "    ]\n",
        "    return Xs, Ys\n",
        "\n",
        "outputs = evaluate_points(inputs, w_star)\n",
        "\n",
        "\n",
        "\n",
        "\n",
        "def plot_outputs(w, w_star, inputs, outputs):\n",
        "    plot_axes()\n",
        "    red_Xs = [ inputs[i][1] for i in range(len(inputs)) if outputs[i] == 1]\n",
        "    red_Ys = [ inputs[i][2] for i in range(len(inputs)) if outputs[i] == 1]\n",
        "    blue_Xs = [ inputs[i][1] for i in range(len(inputs)) if outputs[i] == -1 ]\n",
        "    blue_Ys = [ inputs[i][2] for i in range(len(inputs)) if outputs[i] == -1 ]\n",
        "    plt.scatter(red_Xs, red_Ys, color=\"magenta\")\n",
        "    plt.scatter(blue_Xs, blue_Ys, color=\"turquoise\")\n",
        "    plt.plot(*get_plot_coords(w),  label=\"f - target function\", color=\"red\")\n",
        "    plt.plot(*get_plot_coords(w_star), label=\"g - final hypothesis\", color=\"green\")\n",
        "    plt.legend()"
      ],
      "metadata": {
        "id": "xJ1NlBtCxegJ"
      },
      "execution_count": 9,
      "outputs": []
    },
    {
      "cell_type": "code",
      "source": [
        "def get_misclassified(w, inputs, outputs):\n",
        "    for i, inp in enumerate(inputs):\n",
        "        if outputs[i] != evaluate_point(w, inp):\n",
        "            return i\n",
        "    return -1\n",
        "\n",
        "\n",
        "def perceptron(inputs, outputs):\n",
        "    shape = np.shape(inputs[0])\n",
        "    w = np.zeros(shape)\n",
        "    misclassified = get_misclassified(w, inputs, outputs)\n",
        "    steps = 0\n",
        "    done = False\n",
        "    while not done:\n",
        "        done = True\n",
        "        for i, inp in enumerate(inputs):\n",
        "            if outputs[i] != evaluate_point(w, inp):\n",
        "                done = False\n",
        "                w += outputs[i] * inp   \n",
        "                steps +=1\n",
        "    print(f\"a. Converged in {steps} updates\")\n",
        "    return w\n",
        "\n",
        "w = perceptron(inputs, outputs)\n",
        "plot_outputs(w, w_star, inputs, outputs)\n",
        "print(f\"c. f and g are visibly different\")"
      ],
      "metadata": {
        "id": "zUhUnWoL7IK0",
        "colab": {
          "base_uri": "https://localhost:8080/",
          "height": 283
        },
        "outputId": "6a3b78b5-38bc-4422-ac5d-0c19e0c0e533"
      },
      "execution_count": 22,
      "outputs": [
        {
          "output_type": "stream",
          "name": "stdout",
          "text": [
            "a. Converged in 3483 updates\n",
            "c. f and g are visibly different\n"
          ]
        },
        {
          "output_type": "display_data",
          "data": {
            "text/plain": [
              "<Figure size 432x288 with 1 Axes>"
            ],
            "image/png": "[encoded data removed]"
          },
          "metadata": {
            "needs_background": "light"
          }
        }
      ]
    },
    {
      "cell_type": "markdown",
      "source": [
        "2.a.a-c can be seen above. Now we generate test data and calculate the error."
      ],
      "metadata": {
        "id": "j1b6EX9W3C2g"
      }
    },
    {
      "cell_type": "markdown",
      "source": [
        "Generate some test data:"
      ],
      "metadata": {
        "id": "fdFlf9-8-t2v"
      }
    },
    {
      "cell_type": "code",
      "source": [
        "test_inputs = gen_inputs(100, 2)\n"
      ],
      "metadata": {
        "id": "6aPTKGDZ-sg6"
      },
      "execution_count": 11,
      "outputs": []
    },
    {
      "cell_type": "markdown",
      "source": [
        "2.a.d."
      ],
      "metadata": {
        "id": "8EePjybp_ZX_"
      }
    },
    {
      "cell_type": "code",
      "source": [
        "\n",
        "def calculate_error(test_inputs, w, w_star):\n",
        "    n = len(test_inputs)\n",
        "    test_outputs = evaluate_points(test_inputs, w_star)\n",
        "    actual_outputs = evaluate_points(test_inputs, w)\n",
        "    return sum([abs(test_outputs[i] - actual_outputs[i]) for i in range(n)]) / 200\n",
        "\n",
        "print(f\"d. f and g disagree on {calculate_error(test_inputs, w, w_star)} of the points\")"
      ],
      "metadata": {
        "id": "YL920FwG3SLD",
        "colab": {
          "base_uri": "https://localhost:8080/"
        },
        "outputId": "028a1cc8-05aa-45bd-a1f6-1697fade5f2b"
      },
      "execution_count": 12,
      "outputs": [
        {
          "output_type": "stream",
          "name": "stdout",
          "text": [
            "d. f and g disagree on 0.03 of the points\n"
          ]
        }
      ]
    },
    {
      "cell_type": "markdown",
      "source": [
        "2.b. It's interesting how similar the ouptut of the perceptron on the first and second training sets is."
      ],
      "metadata": {
        "id": "49MPTqGc_8fL"
      }
    },
    {
      "cell_type": "code",
      "source": [
        "b_inputs = gen_inputs(20, 2)\n",
        "b_outputs = evaluate_points(b_inputs, w_star)"
      ],
      "metadata": {
        "id": "XwA94TmNA6_m"
      },
      "execution_count": 13,
      "outputs": []
    },
    {
      "cell_type": "code",
      "source": [
        "\n",
        "b_w = perceptron(b_inputs, b_outputs)\n",
        "plot_outputs(b_w, w_star, b_inputs, b_outputs)\n",
        "print(f\"c. f and g are visibly different\")\n",
        "print(f\"d. f and g disagree on {calculate_error(test_inputs, b_w, w_star)} of the points\")"
      ],
      "metadata": {
        "id": "zd4U3qlB__P2",
        "colab": {
          "base_uri": "https://localhost:8080/",
          "height": 300
        },
        "outputId": "63bc81bf-dcc6-40c3-95b0-5850a7827a3d"
      },
      "execution_count": 14,
      "outputs": [
        {
          "output_type": "stream",
          "name": "stdout",
          "text": [
            "a. Converged in 8242 updates\n",
            "c. f and g are visibly different\n",
            "d. f and g disagree on 0.11 of the points\n"
          ]
        },
        {
          "output_type": "display_data",
          "data": {
            "text/plain": [
              "<Figure size 432x288 with 1 Axes>"
            ],
            "image/png": "[encoded data removed]"
          },
          "metadata": {
            "needs_background": "light"
          }
        }
      ]
    },
    {
      "cell_type": "markdown",
      "source": [
        "2.c. The time to converge grew a lot, and the result is more accurate."
      ],
      "metadata": {
        "id": "ROGZRj49B8bw"
      }
    },
    {
      "cell_type": "code",
      "source": [
        "c_inputs = gen_inputs(100, 2)\n",
        "c_outputs = evaluate_points(c_inputs, w_star)"
      ],
      "metadata": {
        "id": "aNDGJ5GHBvOr"
      },
      "execution_count": 15,
      "outputs": []
    },
    {
      "cell_type": "code",
      "source": [
        "\n",
        "c_w = perceptron(c_inputs, c_outputs)\n",
        "plot_outputs(c_w, w_star, c_inputs, c_outputs)\n",
        "print(f\"c. f and g are much closer than before.\")\n",
        "print(f\"d. f and g disagree on {calculate_error(test_inputs, c_w, w_star)} of the points\")"
      ],
      "metadata": {
        "id": "sewUevMBBvOs",
        "colab": {
          "base_uri": "https://localhost:8080/",
          "height": 300
        },
        "outputId": "c3b8896a-c3e2-4110-a07d-eeadf1e9ff3d"
      },
      "execution_count": 16,
      "outputs": [
        {
          "output_type": "stream",
          "name": "stdout",
          "text": [
            "a. Converged in 3769 updates\n",
            "c. f and g are much closer than before.\n",
            "d. f and g disagree on 0.0 of the points\n"
          ]
        },
        {
          "output_type": "display_data",
          "data": {
            "text/plain": [
              "<Figure size 432x288 with 1 Axes>"
            ],
            "image/png": "[encoded data removed]"
          },
          "metadata": {
            "needs_background": "light"
          }
        }
      ]
    },
    {
      "cell_type": "markdown",
      "source": [
        "2.d. The time to converge grew marginally more, and now the lines are nearly indistinguishable.\n",
        "\n"
      ],
      "metadata": {
        "id": "_8PZ-akhDc5w"
      }
    },
    {
      "cell_type": "code",
      "source": [
        "d_inputs = gen_inputs(100, 2)\n",
        "d_outputs = evaluate_points(d_inputs, w_star)"
      ],
      "metadata": {
        "id": "OLTP9lorDc52"
      },
      "execution_count": 17,
      "outputs": []
    },
    {
      "cell_type": "code",
      "source": [
        "d_w = perceptron(d_inputs, d_outputs)\n",
        "plot_outputs(d_w, w_star, d_inputs, d_outputs)\n",
        "print(f\"c. f and g are almost the same.\")\n",
        "print(f\"d. f and g disagree on {calculate_error(test_inputs, d_w, w_star)} of the points\")"
      ],
      "metadata": {
        "id": "eBEgEaqvDc52",
        "colab": {
          "base_uri": "https://localhost:8080/",
          "height": 300
        },
        "outputId": "fd0a26d9-c22e-4ca7-92f3-74393c0d1420"
      },
      "execution_count": 18,
      "outputs": [
        {
          "output_type": "stream",
          "name": "stdout",
          "text": [
            "a. Converged in 3319 updates\n",
            "c. f and g are almost the same.\n",
            "d. f and g disagree on 0.0 of the points\n"
          ]
        },
        {
          "output_type": "display_data",
          "data": {
            "text/plain": [
              "<Figure size 432x288 with 1 Axes>"
            ],
            "image/png": "[encoded data removed]"
          },
          "metadata": {
            "needs_background": "light"
          }
        }
      ]
    },
    {
      "cell_type": "markdown",
      "source": [
        "2.e. Randomized perceptron"
      ],
      "metadata": {
        "id": "r1qVuiU4Emx0"
      }
    },
    {
      "cell_type": "code",
      "source": [
        "e_w_star = random_hyperplane(10)\n",
        "e_inputs = gen_inputs(1000, 10)"
      ],
      "metadata": {
        "id": "KJICB0-LVtHm"
      },
      "execution_count": 19,
      "outputs": []
    },
    {
      "cell_type": "code",
      "source": [
        "# def get_all_misclassified(w, inputs, outputs):\n",
        "    # misclassified = np.arange(len(inputs))\n",
        "    # return np.where(evaluate_point(w, inputs[misclassified]) == outputs[misclassified], 1, 0)\n",
        "\n",
        "def perceptron_random(inputs, outputs):\n",
        "    n = len(inputs)\n",
        "    shape = np.shape(inputs[0])\n",
        "    w = np.zeros(shape)\n",
        "    misclassified = get_misclassified(w, inputs, outputs)\n",
        "    steps = 0\n",
        "    while -1 != misclassified:\n",
        "        while outputs[misclassified] != evaluate_point(w, inputs[misclassified]):       \n",
        "            w += outputs[misclassified] * inputs[misclassified]\n",
        "            steps += 1\n",
        "        misclassified =get_misclassified(w, inputs, outputs)\n",
        "        if steps % 10000 == 0:\n",
        "            print(steps)\n",
        "    print(f\"a. Converged in {steps} updates\")\n",
        "    return w\n",
        "\n",
        "e_outputs = evaluate_points(e_inputs, e_w_star)\n",
        "perceptron_random(e_inputs, e_outputs)"
      ],
      "metadata": {
        "id": "xbDNm4YLEq7K",
        "colab": {
          "base_uri": "https://localhost:8080/"
        },
        "outputId": "d79109bb-af7e-469b-839b-977752a5140c"
      },
      "execution_count": 23,
      "outputs": [
        {
          "output_type": "stream",
          "name": "stdout",
          "text": [
            "10000\n",
            "20000\n",
            "30000\n",
            "40000\n",
            "50000\n",
            "60000\n",
            "70000\n",
            "a. Converged in 71369 updates\n"
          ]
        },
        {
          "output_type": "execute_result",
          "data": {
            "text/plain": [
              "array([-42007.        ,  -1453.29317801,    260.96399181,   1596.53278299,\n",
              "        -6217.20492109,   -129.49405027,  -1386.90950525,   3300.96558378,\n",
              "          531.44829149,   3516.51184951,  -4764.11789948])"
            ]
          },
          "metadata": {},
          "execution_count": 23
        }
      ]
    }
  ]
}