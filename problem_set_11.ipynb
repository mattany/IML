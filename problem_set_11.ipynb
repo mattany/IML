{
  "cells": [
    {
      "cell_type": "markdown",
      "metadata": {
        "id": "view-in-github",
        "colab_type": "text"
      },
      "source": [
        "<a href=\"https://colab.research.google.com/github/mattany/IML/blob/main/problem_set_11.ipynb\" target=\"_parent\"><img src=\"https://colab.research.google.com/assets/colab-badge.svg\" alt=\"Open In Colab\"/></a>"
      ]
    },
    {
      "cell_type": "markdown",
      "metadata": {
        "id": "6SwfF8Yq1GtB"
      },
      "source": [
        "Imports"
      ]
    },
    {
      "cell_type": "code",
      "execution_count": 1,
      "metadata": {
        "id": "QdP4gnaA1DUT"
      },
      "outputs": [],
      "source": [
        "import numpy as np\n",
        "import matplotlib.pyplot as plt\n",
        "\n",
        "\n",
        "np.random.seed(1337)"
      ]
    },
    {
      "cell_type": "markdown",
      "metadata": {
        "id": "y5BUzjyEBvOk"
      },
      "source": [
        "2.b. It's interesting how similar the ouptut of the perceptron on the first and second training sets is."
      ]
    },
    {
      "cell_type": "markdown",
      "metadata": {
        "id": "XWh_aIg-1Mtw"
      },
      "source": [
        "Draw the axes:"
      ]
    },
    {
      "cell_type": "code",
      "execution_count": 2,
      "metadata": {
        "colab": {
          "base_uri": "https://localhost:8080/",
          "height": 258
        },
        "id": "jKZpL92m1BD5",
        "outputId": "1ec25497-504d-4c2f-b2ad-0ec4d8321fdc"
      },
      "outputs": [
        {
          "output_type": "display_data",
          "data": {
            "text/plain": [
              "<Figure size 432x288 with 1 Axes>"
            ],
            "image/png": "[encoded data removed]"
          },
          "metadata": {
            "needs_background": "light"
          }
        }
      ],
      "source": [
        "pos_dist_size = 20\n",
        "def plot_axes():\n",
        "    fig = plt.figure()\n",
        "    ax = fig.add_subplot(1, 1, 1)\n",
        "    plt.xlim(-pos_dist_size, pos_dist_size)\n",
        "    plt.ylim(-pos_dist_size, pos_dist_size)\n",
        "    plt.gca().set_aspect('equal', adjustable='box')\n",
        "\n",
        "    # Move left y-axis and bottim x-axis to centre, passing through (0,0)\n",
        "    ax.spines['left'].set_position('zero')\n",
        "    ax.spines['bottom'].set_position('zero')\n",
        "\n",
        "    # Eliminate upper and right axes\n",
        "    ax.spines['right'].set_color('none')\n",
        "    ax.spines['top'].set_color('none')\n",
        "plot_axes()"
      ]
    },
    {
      "cell_type": "markdown",
      "metadata": {
        "id": "3fB0qDDBx0-a"
      },
      "source": [
        "Draw a random line:"
      ]
    },
    {
      "cell_type": "code",
      "execution_count": 3,
      "metadata": {
        "id": "-Ny-2V-PtUS7"
      },
      "outputs": [],
      "source": [
        "def random_hyperplane(d):\n",
        "    plane = pos_dist_size * 2 * np.random.random_sample(size=(d, d)) - pos_dist_size\n",
        "    ones = np.empty(d)\n",
        "    ones.fill(1)\n",
        "    w = np.linalg.solve(plane, ones)\n",
        "    w = np.append(-1, w) # Homogenize\n",
        "    return w\n",
        "\n",
        "# m, n = random_line()\n",
        "\n",
        "    \n",
        "w_star = random_hyperplane(2)"
      ]
    },
    {
      "cell_type": "markdown",
      "metadata": {
        "id": "B-P6rvcj5IP5"
      },
      "source": [
        "Generate the inputs:"
      ]
    },
    {
      "cell_type": "code",
      "execution_count": 4,
      "metadata": {
        "id": "fBbEf-mY2Q5I"
      },
      "outputs": [],
      "source": [
        "def gen_inputs(n, d):\n",
        "    inputs = pos_dist_size * 2 * np.random.random_sample(size=(n, d)) - pos_dist_size\n",
        "    inputs = np.c_[np.ones(inputs.shape[0]), inputs] # Homogenize\n",
        "    return inputs\n",
        "\n",
        "inputs = gen_inputs(20, 2)"
      ]
    },
    {
      "cell_type": "markdown",
      "metadata": {
        "id": "g2K6b-eXxe6h"
      },
      "source": [
        "Evaluate the inputs and plot the outputs:"
      ]
    },
    {
      "cell_type": "code",
      "execution_count": 5,
      "metadata": {
        "id": "xJ1NlBtCxegJ"
      },
      "outputs": [],
      "source": [
        "def evaluate_point(w, x):\n",
        "    return np.dot(w, x) > 0\n",
        "\n",
        "def evaluate_points(inputs, w):\n",
        "    return [evaluate_point(w, input) for input in inputs]\n",
        " \n",
        "\n",
        "def get_plot_coords(w):\n",
        "\n",
        "    Xs = [-pos_dist_size, pos_dist_size, 0]\n",
        "    Ys = [\n",
        "        (-w[0] - w[1] * Xs[0]) / w[2],\n",
        "        (-w[0] - w[1] * Xs[1]) / w[2],\n",
        "        (-w[0] - w[1] * Xs[2]) / w[2]\n",
        "    ]\n",
        "    return Xs, Ys\n",
        "\n",
        "outputs = evaluate_points(inputs, w_star)\n",
        "\n",
        "\n",
        "\n",
        "\n",
        "def plot_outputs(w, w_star, inputs, outputs):\n",
        "    plot_axes()\n",
        "    red_Xs = [ inputs[i][1] for i in range(len(inputs)) if outputs[i] == 1]\n",
        "    red_Ys = [ inputs[i][2] for i in range(len(inputs)) if outputs[i] == 1]\n",
        "    blue_Xs = [ inputs[i][1] for i in range(len(inputs)) if outputs[i] == 0 ]\n",
        "    blue_Ys = [ inputs[i][2] for i in range(len(inputs)) if outputs[i] == 0 ]\n",
        "    plt.scatter(red_Xs, red_Ys, color=\"magenta\")\n",
        "    plt.scatter(blue_Xs, blue_Ys, color=\"turquoise\")\n",
        "    plt.plot(*get_plot_coords(w),  label=\"f - target function\", color=\"red\")\n",
        "    plt.plot(*get_plot_coords(w_star), label=\"g - final hypothesis\", color=\"green\")\n",
        "    plt.legend()"
      ]
    },
    {
      "cell_type": "code",
      "execution_count": 6,
      "metadata": {
        "colab": {
          "base_uri": "https://localhost:8080/",
          "height": 294
        },
        "id": "zUhUnWoL7IK0",
        "outputId": "958ee849-d08a-43f1-aded-5da89da52901"
      },
      "outputs": [
        {
          "output_type": "stream",
          "name": "stdout",
          "text": [
            "a. Converged in 84 updates\n",
            "c. f and g are visibly different\n"
          ]
        },
        {
          "output_type": "display_data",
          "data": {
            "text/plain": [
              "<Figure size 432x288 with 1 Axes>"
            ],
            "image/png": "[encoded data removed]"
          },
          "metadata": {
            "needs_background": "light"
          }
        }
      ],
      "source": [
        "steps = 0\n",
        "\n",
        "def perceptron(inputs, outputs):\n",
        "    shape = np.shape(inputs[0])\n",
        "    w = np.zeros(shape)\n",
        "    steps =0\n",
        "    done = False\n",
        "    while not done:\n",
        "        done = True\n",
        "        for i, inp in enumerate(inputs):\n",
        "            res_i = np.dot(w, inp) > 0\n",
        "            if outputs[i] ^ res_i:\n",
        "                done = False\n",
        "                y_i = 1 if outputs[i] else -1\n",
        "                w += y_i * inp   \n",
        "                steps +=1\n",
        "    print(f\"a. Converged in {steps} updates\")\n",
        "    return w, steps\n",
        "\n",
        "w, _ = perceptron(inputs, outputs)\n",
        "plot_outputs(w, w_star, inputs, outputs)\n",
        "print(f\"c. f and g are visibly different\")"
      ]
    },
    {
      "cell_type": "markdown",
      "metadata": {
        "id": "j1b6EX9W3C2g"
      },
      "source": [
        "2.a.a-c can be seen above. Now we generate test data and calculate the error."
      ]
    },
    {
      "cell_type": "markdown",
      "metadata": {
        "id": "fdFlf9-8-t2v"
      },
      "source": [
        "Generate some test data:"
      ]
    },
    {
      "cell_type": "code",
      "execution_count": 7,
      "metadata": {
        "id": "6aPTKGDZ-sg6"
      },
      "outputs": [],
      "source": [
        "test_inputs = gen_inputs(100, 2)\n"
      ]
    },
    {
      "cell_type": "markdown",
      "metadata": {
        "id": "8EePjybp_ZX_"
      },
      "source": [
        "2.a.d."
      ]
    },
    {
      "cell_type": "code",
      "execution_count": 8,
      "metadata": {
        "colab": {
          "base_uri": "https://localhost:8080/"
        },
        "id": "YL920FwG3SLD",
        "outputId": "c42df677-ad32-438a-9872-bb221cc07b09"
      },
      "outputs": [
        {
          "output_type": "stream",
          "name": "stdout",
          "text": [
            "d. f and g disagree on 0.015 of the points\n"
          ]
        }
      ],
      "source": [
        "\n",
        "def calculate_error(test_inputs, w, w_star):\n",
        "    n = len(test_inputs)\n",
        "    test_outputs = evaluate_points(test_inputs, w_star)\n",
        "    actual_outputs = evaluate_points(test_inputs, w)\n",
        "    return sum([test_outputs[i] ^ actual_outputs[i] for i in range(n)]) / 200\n",
        "\n",
        "print(f\"d. f and g disagree on {calculate_error(test_inputs, w, w_star)} of the points\")"
      ]
    },
    {
      "cell_type": "markdown",
      "metadata": {
        "id": "49MPTqGc_8fL"
      },
      "source": [
        "2.b."
      ]
    },
    {
      "cell_type": "code",
      "execution_count": 9,
      "metadata": {
        "id": "XwA94TmNA6_m"
      },
      "outputs": [],
      "source": [
        "b_inputs = gen_inputs(20, 2)\n",
        "b_outputs = evaluate_points(b_inputs, w_star)"
      ]
    },
    {
      "cell_type": "code",
      "execution_count": 10,
      "metadata": {
        "colab": {
          "base_uri": "https://localhost:8080/",
          "height": 312
        },
        "id": "zd4U3qlB__P2",
        "outputId": "dea8e437-6930-491e-833f-427e1c5b0f2f"
      },
      "outputs": [
        {
          "output_type": "stream",
          "name": "stdout",
          "text": [
            "a. Converged in 36 updates\n",
            "c. f and g are visibly different\n",
            "d. f and g disagree on 0.08 of the points\n"
          ]
        },
        {
          "output_type": "display_data",
          "data": {
            "text/plain": [
              "<Figure size 432x288 with 1 Axes>"
            ],
            "image/png": "[encoded data removed]"
          },
          "metadata": {
            "needs_background": "light"
          }
        }
      ],
      "source": [
        "\n",
        "b_w, _ = perceptron(b_inputs, b_outputs)\n",
        "plot_outputs(b_w, w_star, b_inputs, b_outputs)\n",
        "print(f\"c. f and g are visibly different\")\n",
        "print(f\"d. f and g disagree on {calculate_error(test_inputs, b_w, w_star)} of the points\")"
      ]
    },
    {
      "cell_type": "markdown",
      "metadata": {
        "id": "ROGZRj49B8bw"
      },
      "source": [
        "2.c. The time to converge grew, and the result is more accurate."
      ]
    },
    {
      "cell_type": "code",
      "execution_count": 11,
      "metadata": {
        "id": "aNDGJ5GHBvOr"
      },
      "outputs": [],
      "source": [
        "c_inputs = gen_inputs(100, 2)\n",
        "c_outputs = evaluate_points(c_inputs, w_star)"
      ]
    },
    {
      "cell_type": "code",
      "execution_count": 12,
      "metadata": {
        "colab": {
          "base_uri": "https://localhost:8080/",
          "height": 312
        },
        "id": "sewUevMBBvOs",
        "outputId": "8dd33331-6100-44d6-fcf1-963d6c20126c"
      },
      "outputs": [
        {
          "output_type": "stream",
          "name": "stdout",
          "text": [
            "a. Converged in 548 updates\n",
            "c. f and g are much closer than before.\n",
            "d. f and g disagree on 0.0 of the points\n"
          ]
        },
        {
          "output_type": "display_data",
          "data": {
            "text/plain": [
              "<Figure size 432x288 with 1 Axes>"
            ],
            "image/png": "[encoded data removed]"
          },
          "metadata": {
            "needs_background": "light"
          }
        }
      ],
      "source": [
        "\n",
        "c_w, _ = perceptron(c_inputs, c_outputs)\n",
        "plot_outputs(c_w, w_star, c_inputs, c_outputs)\n",
        "print(f\"c. f and g are much closer than before.\")\n",
        "print(f\"d. f and g disagree on {calculate_error(test_inputs, c_w, w_star)} of the points\")"
      ]
    },
    {
      "cell_type": "markdown",
      "metadata": {
        "id": "_8PZ-akhDc5w"
      },
      "source": [
        "2.d. The time to converge grew marginally more, and now the lines are nearly indistinguishable.\n",
        "\n"
      ]
    },
    {
      "cell_type": "code",
      "execution_count": 13,
      "metadata": {
        "id": "OLTP9lorDc52"
      },
      "outputs": [],
      "source": [
        "d_inputs = gen_inputs(1000, 2)\n",
        "d_outputs = evaluate_points(d_inputs, w_star)"
      ]
    },
    {
      "cell_type": "code",
      "execution_count": 14,
      "metadata": {
        "colab": {
          "base_uri": "https://localhost:8080/",
          "height": 312
        },
        "id": "eBEgEaqvDc52",
        "outputId": "cf600ce6-1ac1-487f-8adb-0030de4ec181"
      },
      "outputs": [
        {
          "output_type": "stream",
          "name": "stdout",
          "text": [
            "a. Converged in 3346 updates\n",
            "c. f and g are almost the same.\n",
            "d. f and g disagree on 0.005 of the points\n"
          ]
        },
        {
          "output_type": "display_data",
          "data": {
            "text/plain": [
              "<Figure size 432x288 with 1 Axes>"
            ],
            "image/png": "[encoded data removed]"
          },
          "metadata": {
            "needs_background": "light"
          }
        }
      ],
      "source": [
        "d_w, _ = perceptron(d_inputs, d_outputs)\n",
        "plot_outputs(d_w, w_star, d_inputs, d_outputs)\n",
        "print(f\"c. f and g are almost the same.\")\n",
        "print(f\"d. f and g disagree on {calculate_error(test_inputs, d_w, w_star)} of the points\")"
      ]
    },
    {
      "cell_type": "markdown",
      "metadata": {
        "id": "r1qVuiU4Emx0"
      },
      "source": [
        "2.e. Randomize input order 100 times and plot histogram of the update amount."
      ]
    },
    {
      "cell_type": "code",
      "execution_count": 15,
      "metadata": {
        "id": "KJICB0-LVtHm"
      },
      "outputs": [],
      "source": [
        "pos_dist_size = 5\n",
        "e_w_star = random_hyperplane(10)\n",
        "e_inputs = gen_inputs(1000, 10)"
      ]
    },
    {
      "cell_type": "code",
      "execution_count": 16,
      "metadata": {
        "colab": {
          "base_uri": "https://localhost:8080/",
          "height": 1000
        },
        "id": "xbDNm4YLEq7K",
        "outputId": "628b348a-b359-438a-faec-b4451e8e60d8"
      },
      "outputs": [
        {
          "output_type": "stream",
          "name": "stdout",
          "text": [
            "rep 0. a. Converged in 3024 updates\n",
            "rep 1. a. Converged in 2267 updates\n",
            "rep 2. a. Converged in 2242 updates\n",
            "rep 3. a. Converged in 4154 updates\n",
            "rep 4. a. Converged in 2687 updates\n",
            "rep 5. a. Converged in 2387 updates\n",
            "rep 6. a. Converged in 3437 updates\n",
            "rep 7. a. Converged in 3312 updates\n",
            "rep 8. a. Converged in 3433 updates\n",
            "rep 9. a. Converged in 3820 updates\n",
            "rep 10. a. Converged in 4362 updates\n",
            "rep 11. a. Converged in 2496 updates\n",
            "rep 12. a. Converged in 2265 updates\n",
            "rep 13. a. Converged in 2565 updates\n",
            "rep 14. a. Converged in 3187 updates\n",
            "rep 15. a. Converged in 2176 updates\n",
            "rep 16. a. Converged in 3122 updates\n",
            "rep 17. a. Converged in 2292 updates\n",
            "rep 18. a. Converged in 2731 updates\n",
            "rep 19. a. Converged in 3633 updates\n",
            "rep 20. a. Converged in 2497 updates\n",
            "rep 21. a. Converged in 2129 updates\n",
            "rep 22. a. Converged in 2042 updates\n",
            "rep 23. a. Converged in 2199 updates\n",
            "rep 24. a. Converged in 3496 updates\n",
            "rep 25. a. Converged in 3217 updates\n",
            "rep 26. a. Converged in 2647 updates\n",
            "rep 27. a. Converged in 3477 updates\n",
            "rep 28. a. Converged in 3260 updates\n",
            "rep 29. a. Converged in 2078 updates\n",
            "rep 30. a. Converged in 2464 updates\n",
            "rep 31. a. Converged in 2871 updates\n",
            "rep 32. a. Converged in 996 updates\n",
            "rep 33. a. Converged in 2756 updates\n",
            "rep 34. a. Converged in 2536 updates\n",
            "rep 35. a. Converged in 3295 updates\n",
            "rep 36. a. Converged in 3190 updates\n",
            "rep 37. a. Converged in 3523 updates\n",
            "rep 38. a. Converged in 3122 updates\n",
            "rep 39. a. Converged in 2790 updates\n",
            "rep 40. a. Converged in 2334 updates\n",
            "rep 41. a. Converged in 3777 updates\n",
            "rep 42. a. Converged in 2436 updates\n",
            "rep 43. a. Converged in 3393 updates\n",
            "rep 44. a. Converged in 3634 updates\n",
            "rep 45. a. Converged in 2442 updates\n",
            "rep 46. a. Converged in 1710 updates\n",
            "rep 47. a. Converged in 3454 updates\n",
            "rep 48. a. Converged in 4752 updates\n",
            "rep 49. a. Converged in 2924 updates\n",
            "rep 50. a. Converged in 1624 updates\n",
            "rep 51. a. Converged in 2607 updates\n",
            "rep 52. a. Converged in 2613 updates\n",
            "rep 53. a. Converged in 3492 updates\n",
            "rep 54. a. Converged in 3851 updates\n",
            "rep 55. a. Converged in 2764 updates\n",
            "rep 56. a. Converged in 2501 updates\n",
            "rep 57. a. Converged in 2914 updates\n",
            "rep 58. a. Converged in 2597 updates\n",
            "rep 59. a. Converged in 4127 updates\n",
            "rep 60. a. Converged in 3214 updates\n",
            "rep 61. a. Converged in 3700 updates\n",
            "rep 62. a. Converged in 2586 updates\n",
            "rep 63. a. Converged in 2180 updates\n",
            "rep 64. a. Converged in 2188 updates\n",
            "rep 65. a. Converged in 3495 updates\n",
            "rep 66. a. Converged in 3758 updates\n",
            "rep 67. a. Converged in 3244 updates\n",
            "rep 68. a. Converged in 2847 updates\n",
            "rep 69. a. Converged in 2266 updates\n",
            "rep 70. a. Converged in 3677 updates\n",
            "rep 71. a. Converged in 2784 updates\n",
            "rep 72. a. Converged in 4124 updates\n",
            "rep 73. a. Converged in 2603 updates\n",
            "rep 74. a. Converged in 2788 updates\n",
            "rep 75. a. Converged in 3681 updates\n",
            "rep 76. a. Converged in 3232 updates\n",
            "rep 77. a. Converged in 3586 updates\n",
            "rep 78. a. Converged in 2793 updates\n",
            "rep 79. a. Converged in 2912 updates\n",
            "rep 80. a. Converged in 3803 updates\n",
            "rep 81. a. Converged in 3772 updates\n",
            "rep 82. a. Converged in 4131 updates\n",
            "rep 83. a. Converged in 2558 updates\n",
            "rep 84. a. Converged in 2150 updates\n",
            "rep 85. a. Converged in 2767 updates\n",
            "rep 86. a. Converged in 2439 updates\n",
            "rep 87. a. Converged in 2917 updates\n",
            "rep 88. a. Converged in 2659 updates\n",
            "rep 89. a. Converged in 3300 updates\n",
            "rep 90. a. Converged in 3460 updates\n",
            "rep 91. a. Converged in 3649 updates\n",
            "rep 92. a. Converged in 4286 updates\n",
            "rep 93. a. Converged in 3024 updates\n",
            "rep 94. a. Converged in 3487 updates\n",
            "rep 95. a. Converged in 2625 updates\n",
            "rep 96. a. Converged in 2439 updates\n",
            "rep 97. a. Converged in 2653 updates\n",
            "rep 98. a. Converged in 3106 updates\n",
            "rep 99. a. Converged in 2439 updates\n"
          ]
        },
        {
          "output_type": "display_data",
          "data": {
            "text/plain": [
              "<Figure size 432x288 with 1 Axes>"
            ],
            "image/png": "[encoded data removed]"
          },
          "metadata": {
            "needs_background": "light"
          }
        }
      ],
      "source": [
        "def perceptron_random(inputs, outputs):\n",
        "    shape = np.shape(inputs[0])\n",
        "    w = np.zeros(shape)\n",
        "    n = len(inputs)\n",
        "    steps =0\n",
        "    done = False\n",
        "    correctly_classified = set()\n",
        "    while len(correctly_classified) < n:\n",
        "        i = np.random.randint(n)\n",
        "        if i not in correctly_classified:\n",
        "            res_i = np.dot(w, inputs[i]) > 0\n",
        "            if outputs[i] ^ res_i:\n",
        "                correctly_classified = set()\n",
        "                y_i = 1 if outputs[i] else -1\n",
        "                w += y_i * inputs[i] \n",
        "                steps +=1\n",
        "            else:\n",
        "                correctly_classified.add(i)\n",
        "    print(f\"a. Converged in {steps} updates\")\n",
        "    return w, steps\n",
        "\n",
        "\n",
        "def get_histogram_values(reps):\n",
        "    ret = np.zeros(reps)\n",
        "    for i in range(reps):\n",
        "        print(f\"rep {i}.\", end=\" \")\n",
        "        # np.random.shuffle(e_inputs)\n",
        "        e_outputs = evaluate_points(e_inputs, e_w_star)\n",
        "        # _, steps = perceptron(e_inputs, e_outputs)\n",
        "        _, steps = perceptron_random(e_inputs, e_outputs)\n",
        "        ret[i] = steps\n",
        "    return ret\n",
        "\n",
        "ret = get_histogram_values(100)\n",
        "plt.hist(ret, bins=30)\n",
        "plt.show()\n"
      ]
    }
  ],
  "metadata": {
    "colab": {
      "toc_visible": true,
      "provenance": [],
      "authorship_tag": "ABX9TyOA/f3rAtEcEe0ej9mHX2Hb",
      "include_colab_link": true
    },
    "kernelspec": {
      "display_name": "Python 3",
      "name": "python3"
    },
    "language_info": {
      "name": "python"
    }
  },
  "nbformat": 4,
  "nbformat_minor": 0
}