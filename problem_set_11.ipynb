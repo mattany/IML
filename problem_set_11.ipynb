{
  "cells": [
    {
      "cell_type": "markdown",
      "metadata": {
        "id": "view-in-github",
        "colab_type": "text"
      },
      "source": [
        "<a href=\"https://colab.research.google.com/github/mattany/IML/blob/main/problem_set_11.ipynb\" target=\"_parent\"><img src=\"https://colab.research.google.com/assets/colab-badge.svg\" alt=\"Open In Colab\"/></a>"
      ]
    },
    {
      "cell_type": "markdown",
      "metadata": {
        "id": "6SwfF8Yq1GtB"
      },
      "source": [
        "Imports"
      ]
    },
    {
      "cell_type": "code",
      "execution_count": 1,
      "metadata": {
        "id": "QdP4gnaA1DUT"
      },
      "outputs": [],
      "source": [
        "import numpy as np\n",
        "import matplotlib.pyplot as plt\n",
        "\n",
        "\n",
        "np.random.seed(0)"
      ]
    },
    {
      "cell_type": "markdown",
      "metadata": {
        "id": "y5BUzjyEBvOk"
      },
      "source": [
        "2.b. It's interesting how similar the ouptut of the perceptron on the first and second training sets is."
      ]
    },
    {
      "cell_type": "markdown",
      "metadata": {
        "id": "XWh_aIg-1Mtw"
      },
      "source": [
        "Draw the axes:"
      ]
    },
    {
      "cell_type": "code",
      "execution_count": 2,
      "metadata": {
        "colab": {
          "base_uri": "https://localhost:8080/",
          "height": 258
        },
        "id": "jKZpL92m1BD5",
        "outputId": "025a358e-0535-41c8-95d1-8a766b5249c5"
      },
      "outputs": [
        {
          "output_type": "display_data",
          "data": {
            "text/plain": [
              "<Figure size 432x288 with 1 Axes>"
            ],
            "image/png": "[encoded data removed]"
          },
          "metadata": {
            "needs_background": "light"
          }
        }
      ],
      "source": [
        "pos_dist_size = 10\n",
        "def plot_axes():\n",
        "    fig = plt.figure()\n",
        "    ax = fig.add_subplot(1, 1, 1)\n",
        "    plt.xlim(-pos_dist_size, pos_dist_size)\n",
        "    plt.ylim(-pos_dist_size, pos_dist_size)\n",
        "    plt.gca().set_aspect('equal', adjustable='box')\n",
        "\n",
        "    # Move left y-axis and bottim x-axis to centre, passing through (0,0)\n",
        "    ax.spines['left'].set_position('zero')\n",
        "    ax.spines['bottom'].set_position('zero')\n",
        "\n",
        "    # Eliminate upper and right axes\n",
        "    ax.spines['right'].set_color('none')\n",
        "    ax.spines['top'].set_color('none')\n",
        "plot_axes()"
      ]
    },
    {
      "cell_type": "markdown",
      "metadata": {
        "id": "3fB0qDDBx0-a"
      },
      "source": [
        "Draw a random line:"
      ]
    },
    {
      "cell_type": "code",
      "execution_count": 3,
      "metadata": {
        "id": "-Ny-2V-PtUS7"
      },
      "outputs": [],
      "source": [
        "def random_hyperplane(d):\n",
        "    plane = pos_dist_size * 2 * np.random.random_sample(size=(d, d)) - pos_dist_size\n",
        "    ones = np.empty(d)\n",
        "    ones.fill(1)\n",
        "    w = np.linalg.solve(plane, ones)\n",
        "    w = np.append(-1, w) # Homogenize\n",
        "    return w\n",
        "\n",
        "# m, n = random_line()\n",
        "\n",
        "    \n",
        "w_star = random_hyperplane(2)"
      ]
    },
    {
      "cell_type": "markdown",
      "metadata": {
        "id": "B-P6rvcj5IP5"
      },
      "source": [
        "Generate the inputs:"
      ]
    },
    {
      "cell_type": "code",
      "execution_count": 4,
      "metadata": {
        "id": "fBbEf-mY2Q5I"
      },
      "outputs": [],
      "source": [
        "def gen_inputs(n, d):\n",
        "    inputs = pos_dist_size * 2 * np.random.random_sample(size=(n, d)) - pos_dist_size\n",
        "    inputs = np.c_[np.ones(inputs.shape[0]), inputs] # Homogenize\n",
        "    return inputs\n",
        "\n",
        "inputs = gen_inputs(20, 2)"
      ]
    },
    {
      "cell_type": "markdown",
      "metadata": {
        "id": "g2K6b-eXxe6h"
      },
      "source": [
        "Evaluate the inputs and plot the outputs:"
      ]
    },
    {
      "cell_type": "code",
      "execution_count": 5,
      "metadata": {
        "id": "xJ1NlBtCxegJ"
      },
      "outputs": [],
      "source": [
        "def evaluate_point(w, x):\n",
        "    return np.dot(w, x) > 0\n",
        "\n",
        "def evaluate_points(inputs, w):\n",
        "    return [evaluate_point(w, input) for input in inputs]\n",
        " \n",
        "\n",
        "def get_plot_coords(w):\n",
        "\n",
        "    Xs = [-pos_dist_size, pos_dist_size, 0]\n",
        "    Ys = [\n",
        "        (-w[0] - w[1] * Xs[0]) / w[2],\n",
        "        (-w[0] - w[1] * Xs[1]) / w[2],\n",
        "        (-w[0] - w[1] * Xs[2]) / w[2]\n",
        "    ]\n",
        "    return Xs, Ys\n",
        "\n",
        "outputs = evaluate_points(inputs, w_star)\n",
        "\n",
        "\n",
        "\n",
        "\n",
        "def plot_outputs(w, w_star, inputs, outputs):\n",
        "    plot_axes()\n",
        "    red_Xs = [ inputs[i][1] for i in range(len(inputs)) if outputs[i] == 1]\n",
        "    red_Ys = [ inputs[i][2] for i in range(len(inputs)) if outputs[i] == 1]\n",
        "    blue_Xs = [ inputs[i][1] for i in range(len(inputs)) if outputs[i] == 0 ]\n",
        "    blue_Ys = [ inputs[i][2] for i in range(len(inputs)) if outputs[i] == 0 ]\n",
        "    plt.scatter(red_Xs, red_Ys, color=\"magenta\")\n",
        "    plt.scatter(blue_Xs, blue_Ys, color=\"turquoise\")\n",
        "    plt.plot(*get_plot_coords(w),  label=\"f - target function\", color=\"red\")\n",
        "    plt.plot(*get_plot_coords(w_star), label=\"g - final hypothesis\", color=\"green\")\n",
        "    plt.legend()"
      ]
    },
    {
      "cell_type": "code",
      "execution_count": 6,
      "metadata": {
        "colab": {
          "base_uri": "https://localhost:8080/",
          "height": 294
        },
        "id": "zUhUnWoL7IK0",
        "outputId": "546031b4-eaeb-4f07-a499-9611527a5657"
      },
      "outputs": [
        {
          "output_type": "stream",
          "name": "stdout",
          "text": [
            "a. Converged in 41 updates\n",
            "c. f and g are visibly different\n"
          ]
        },
        {
          "output_type": "display_data",
          "data": {
            "text/plain": [
              "<Figure size 432x288 with 1 Axes>"
            ],
            "image/png": "[encoded data removed]"
          },
          "metadata": {
            "needs_background": "light"
          }
        }
      ],
      "source": [
        "def get_misclassified(w, inputs, outputs):\n",
        "    for i, inp in enumerate(inputs):\n",
        "        if outputs[i] ^ (np.dot(w, inp) > 0):\n",
        "            return i\n",
        "    return -1\n",
        "\n",
        "steps = 0\n",
        "def perceptron(inputs, outputs):\n",
        "    shape = np.shape(inputs[0])\n",
        "    w = np.zeros(shape)\n",
        "    misclassified = get_misclassified(w, inputs, outputs)\n",
        "    steps =0\n",
        "    done = False\n",
        "    while not done:\n",
        "        done = True\n",
        "        for i, inp in enumerate(inputs):\n",
        "            res_i = np.dot(w, inp) > 0\n",
        "            if outputs[i] ^ res_i:\n",
        "                done = False\n",
        "                y_i = 1 if outputs[i] else -1\n",
        "                w += y_i * inp   \n",
        "                steps +=1\n",
        "    print(f\"a. Converged in {steps} updates\")\n",
        "    return w, steps\n",
        "\n",
        "w, _ = perceptron(inputs, outputs)\n",
        "plot_outputs(w, w_star, inputs, outputs)\n",
        "print(f\"c. f and g are visibly different\")"
      ]
    },
    {
      "cell_type": "markdown",
      "metadata": {
        "id": "j1b6EX9W3C2g"
      },
      "source": [
        "2.a.a-c can be seen above. Now we generate test data and calculate the error."
      ]
    },
    {
      "cell_type": "markdown",
      "metadata": {
        "id": "fdFlf9-8-t2v"
      },
      "source": [
        "Generate some test data:"
      ]
    },
    {
      "cell_type": "code",
      "execution_count": 7,
      "metadata": {
        "id": "6aPTKGDZ-sg6"
      },
      "outputs": [],
      "source": [
        "test_inputs = gen_inputs(100, 2)\n"
      ]
    },
    {
      "cell_type": "markdown",
      "metadata": {
        "id": "8EePjybp_ZX_"
      },
      "source": [
        "2.a.d."
      ]
    },
    {
      "cell_type": "code",
      "execution_count": 8,
      "metadata": {
        "colab": {
          "base_uri": "https://localhost:8080/"
        },
        "id": "YL920FwG3SLD",
        "outputId": "9f64b2d9-c7c2-4f70-abea-a77c9ee4fbe1"
      },
      "outputs": [
        {
          "output_type": "stream",
          "name": "stdout",
          "text": [
            "d. f and g disagree on 0.025 of the points\n"
          ]
        }
      ],
      "source": [
        "\n",
        "def calculate_error(test_inputs, w, w_star):\n",
        "    n = len(test_inputs)\n",
        "    test_outputs = evaluate_points(test_inputs, w_star)\n",
        "    actual_outputs = evaluate_points(test_inputs, w)\n",
        "    return sum([test_outputs[i] ^ actual_outputs[i] for i in range(n)]) / 200\n",
        "\n",
        "print(f\"d. f and g disagree on {calculate_error(test_inputs, w, w_star)} of the points\")"
      ]
    },
    {
      "cell_type": "markdown",
      "metadata": {
        "id": "49MPTqGc_8fL"
      },
      "source": [
        "2.b. It's interesting how similar the ouptut of the perceptron on the first and second training sets is."
      ]
    },
    {
      "cell_type": "code",
      "execution_count": 9,
      "metadata": {
        "id": "XwA94TmNA6_m"
      },
      "outputs": [],
      "source": [
        "b_inputs = gen_inputs(20, 2)\n",
        "b_outputs = evaluate_points(b_inputs, w_star)"
      ]
    },
    {
      "cell_type": "code",
      "execution_count": 10,
      "metadata": {
        "colab": {
          "base_uri": "https://localhost:8080/",
          "height": 312
        },
        "id": "zd4U3qlB__P2",
        "outputId": "e7958ded-d6de-4a65-9b83-e618d299a822"
      },
      "outputs": [
        {
          "output_type": "stream",
          "name": "stdout",
          "text": [
            "a. Converged in 25 updates\n",
            "c. f and g are visibly different\n",
            "d. f and g disagree on 0.055 of the points\n"
          ]
        },
        {
          "output_type": "display_data",
          "data": {
            "text/plain": [
              "<Figure size 432x288 with 1 Axes>"
            ],
            "image/png": "[encoded data removed]"
          },
          "metadata": {
            "needs_background": "light"
          }
        }
      ],
      "source": [
        "\n",
        "b_w, _ = perceptron(b_inputs, b_outputs)\n",
        "plot_outputs(b_w, w_star, b_inputs, b_outputs)\n",
        "print(f\"c. f and g are visibly different\")\n",
        "print(f\"d. f and g disagree on {calculate_error(test_inputs, b_w, w_star)} of the points\")"
      ]
    },
    {
      "cell_type": "markdown",
      "metadata": {
        "id": "ROGZRj49B8bw"
      },
      "source": [
        "2.c. The time to converge grew a lot, and the result is more accurate."
      ]
    },
    {
      "cell_type": "code",
      "execution_count": 11,
      "metadata": {
        "id": "aNDGJ5GHBvOr"
      },
      "outputs": [],
      "source": [
        "c_inputs = gen_inputs(100, 2)\n",
        "c_outputs = evaluate_points(c_inputs, w_star)"
      ]
    },
    {
      "cell_type": "code",
      "execution_count": 12,
      "metadata": {
        "colab": {
          "base_uri": "https://localhost:8080/",
          "height": 312
        },
        "id": "sewUevMBBvOs",
        "outputId": "381f1374-a056-465b-808a-08bf79abd28f"
      },
      "outputs": [
        {
          "output_type": "stream",
          "name": "stdout",
          "text": [
            "a. Converged in 40 updates\n",
            "c. f and g are much closer than before.\n",
            "d. f and g disagree on 0.005 of the points\n"
          ]
        },
        {
          "output_type": "display_data",
          "data": {
            "text/plain": [
              "<Figure size 432x288 with 1 Axes>"
            ],
            "image/png": "[encoded data removed]"
          },
          "metadata": {
            "needs_background": "light"
          }
        }
      ],
      "source": [
        "\n",
        "c_w, _ = perceptron(c_inputs, c_outputs)\n",
        "plot_outputs(c_w, w_star, c_inputs, c_outputs)\n",
        "print(f\"c. f and g are much closer than before.\")\n",
        "print(f\"d. f and g disagree on {calculate_error(test_inputs, c_w, w_star)} of the points\")"
      ]
    },
    {
      "cell_type": "markdown",
      "metadata": {
        "id": "_8PZ-akhDc5w"
      },
      "source": [
        "2.d. The time to converge grew marginally more, and now the lines are nearly indistinguishable.\n",
        "\n"
      ]
    },
    {
      "cell_type": "code",
      "execution_count": 13,
      "metadata": {
        "id": "OLTP9lorDc52"
      },
      "outputs": [],
      "source": [
        "d_inputs = gen_inputs(1000, 2)\n",
        "d_outputs = evaluate_points(d_inputs, w_star)"
      ]
    },
    {
      "cell_type": "code",
      "execution_count": 14,
      "metadata": {
        "colab": {
          "base_uri": "https://localhost:8080/",
          "height": 312
        },
        "id": "eBEgEaqvDc52",
        "outputId": "2b9984f5-9940-4d14-bd76-263c8af27da6"
      },
      "outputs": [
        {
          "output_type": "stream",
          "name": "stdout",
          "text": [
            "a. Converged in 556 updates\n",
            "c. f and g are almost the same.\n",
            "d. f and g disagree on 0.0 of the points\n"
          ]
        },
        {
          "output_type": "display_data",
          "data": {
            "text/plain": [
              "<Figure size 432x288 with 1 Axes>"
            ],
            "image/png": "[encoded data removed]"
          },
          "metadata": {
            "needs_background": "light"
          }
        }
      ],
      "source": [
        "d_w, _ = perceptron(d_inputs, d_outputs)\n",
        "plot_outputs(d_w, w_star, d_inputs, d_outputs)\n",
        "print(f\"c. f and g are almost the same.\")\n",
        "print(f\"d. f and g disagree on {calculate_error(test_inputs, d_w, w_star)} of the points\")"
      ]
    },
    {
      "cell_type": "markdown",
      "metadata": {
        "id": "r1qVuiU4Emx0"
      },
      "source": [
        "2.e. Randomize input order 100 times and plot histogram of the update amount."
      ]
    },
    {
      "cell_type": "code",
      "execution_count": 15,
      "metadata": {
        "id": "KJICB0-LVtHm"
      },
      "outputs": [],
      "source": [
        "e_w_star = random_hyperplane(10)\n",
        "e_inputs = gen_inputs(1000, 10)"
      ]
    },
    {
      "cell_type": "code",
      "execution_count": 16,
      "metadata": {
        "colab": {
          "base_uri": "https://localhost:8080/",
          "height": 1000
        },
        "id": "xbDNm4YLEq7K",
        "outputId": "e3bece85-a4a5-4db5-f9a0-ece4c4df1862"
      },
      "outputs": [
        {
          "output_type": "stream",
          "name": "stdout",
          "text": [
            "rep 0. a. Converged in 11339 updates\n",
            "rep 1. a. Converged in 8496 updates\n",
            "rep 2. a. Converged in 9890 updates\n",
            "rep 3. a. Converged in 11478 updates\n",
            "rep 4. a. Converged in 9966 updates\n",
            "rep 5. a. Converged in 11415 updates\n",
            "rep 6. a. Converged in 9012 updates\n",
            "rep 7. a. Converged in 11295 updates\n",
            "rep 8. a. Converged in 11905 updates\n",
            "rep 9. a. Converged in 9472 updates\n",
            "rep 10. a. Converged in 14802 updates\n",
            "rep 11. a. Converged in 11037 updates\n",
            "rep 12. a. Converged in 6664 updates\n",
            "rep 13. a. Converged in 9622 updates\n",
            "rep 14. a. Converged in 14231 updates\n",
            "rep 15. a. Converged in 8709 updates\n",
            "rep 16. a. Converged in 7912 updates\n",
            "rep 17. a. Converged in 10564 updates\n",
            "rep 18. a. Converged in 12951 updates\n",
            "rep 19. a. Converged in 15519 updates\n",
            "rep 20. a. Converged in 12044 updates\n",
            "rep 21. a. Converged in 13251 updates\n",
            "rep 22. a. Converged in 9154 updates\n",
            "rep 23. a. Converged in 12826 updates\n",
            "rep 24. a. Converged in 10267 updates\n",
            "rep 25. a. Converged in 11215 updates\n",
            "rep 26. a. Converged in 10885 updates\n",
            "rep 27. a. Converged in 14159 updates\n",
            "rep 28. a. Converged in 9182 updates\n",
            "rep 29. a. Converged in 11115 updates\n",
            "rep 30. a. Converged in 6016 updates\n",
            "rep 31. a. Converged in 11470 updates\n",
            "rep 32. a. Converged in 13682 updates\n",
            "rep 33. a. Converged in 11837 updates\n",
            "rep 34. a. Converged in 10745 updates\n",
            "rep 35. a. Converged in 7083 updates\n",
            "rep 36. a. Converged in 11647 updates\n",
            "rep 37. a. Converged in 9651 updates\n",
            "rep 38. a. Converged in 10304 updates\n",
            "rep 39. a. Converged in 9914 updates\n",
            "rep 40. a. Converged in 12658 updates\n",
            "rep 41. a. Converged in 10574 updates\n",
            "rep 42. a. Converged in 14514 updates\n",
            "rep 43. a. Converged in 12277 updates\n",
            "rep 44. a. Converged in 7115 updates\n",
            "rep 45. a. Converged in 9577 updates\n",
            "rep 46. a. Converged in 10132 updates\n",
            "rep 47. a. Converged in 9675 updates\n",
            "rep 48. a. Converged in 8928 updates\n",
            "rep 49. a. Converged in 9850 updates\n",
            "rep 50. a. Converged in 11106 updates\n",
            "rep 51. a. Converged in 13158 updates\n",
            "rep 52. a. Converged in 11234 updates\n",
            "rep 53. a. Converged in 10551 updates\n",
            "rep 54. a. Converged in 8553 updates\n",
            "rep 55. a. Converged in 8454 updates\n",
            "rep 56. a. Converged in 7875 updates\n",
            "rep 57. a. Converged in 15305 updates\n",
            "rep 58. a. Converged in 13056 updates\n",
            "rep 59. a. Converged in 11628 updates\n",
            "rep 60. a. Converged in 14263 updates\n",
            "rep 61. a. Converged in 14989 updates\n",
            "rep 62. a. Converged in 9209 updates\n",
            "rep 63. a. Converged in 10760 updates\n",
            "rep 64. a. Converged in 12384 updates\n",
            "rep 65. a. Converged in 11778 updates\n",
            "rep 66. a. Converged in 8641 updates\n",
            "rep 67. a. Converged in 10565 updates\n",
            "rep 68. a. Converged in 10010 updates\n",
            "rep 69. a. Converged in 11491 updates\n",
            "rep 70. a. Converged in 7777 updates\n",
            "rep 71. a. Converged in 7111 updates\n",
            "rep 72. a. Converged in 11563 updates\n",
            "rep 73. a. Converged in 14245 updates\n",
            "rep 74. a. Converged in 12082 updates\n",
            "rep 75. a. Converged in 8023 updates\n",
            "rep 76. a. Converged in 13024 updates\n",
            "rep 77. a. Converged in 17090 updates\n",
            "rep 78. a. Converged in 8558 updates\n",
            "rep 79. a. Converged in 10810 updates\n",
            "rep 80. a. Converged in 7958 updates\n",
            "rep 81. a. Converged in 10090 updates\n",
            "rep 82. a. Converged in 15981 updates\n",
            "rep 83. a. Converged in 12312 updates\n",
            "rep 84. a. Converged in 15619 updates\n",
            "rep 85. a. Converged in 11080 updates\n",
            "rep 86. a. Converged in 13545 updates\n",
            "rep 87. a. Converged in 10939 updates\n",
            "rep 88. a. Converged in 13615 updates\n",
            "rep 89. a. Converged in 11443 updates\n",
            "rep 90. a. Converged in 12910 updates\n",
            "rep 91. a. Converged in 11146 updates\n",
            "rep 92. a. Converged in 10238 updates\n",
            "rep 93. a. Converged in 8575 updates\n",
            "rep 94. a. Converged in 12345 updates\n",
            "rep 95. a. Converged in 6939 updates\n",
            "rep 96. a. Converged in 5148 updates\n",
            "rep 97. a. Converged in 9258 updates\n",
            "rep 98. a. Converged in 14005 updates\n",
            "rep 99. a. Converged in 13695 updates\n"
          ]
        },
        {
          "output_type": "display_data",
          "data": {
            "text/plain": [
              "<Figure size 432x288 with 1 Axes>"
            ],
            "image/png": "[encoded data removed]"
          },
          "metadata": {
            "needs_background": "light"
          }
        }
      ],
      "source": [
        "\n",
        "\n",
        "def get_histogram_values(reps):\n",
        "    ret = np.zeros(reps)\n",
        "    for i in range(reps):\n",
        "        print(f\"rep {i}.\", end=\" \")\n",
        "        np.random.shuffle(e_inputs)\n",
        "        e_outputs = evaluate_points(e_inputs, e_w_star)\n",
        "        _, steps = perceptron(e_inputs, e_outputs)\n",
        "        ret[i] = steps\n",
        "    return ret\n",
        "\n",
        "ret = get_histogram_values(100)\n",
        "plt.hist(ret, bins=30)\n",
        "plt.show()\n"
      ]
    }
  ],
  "metadata": {
    "colab": {
      "toc_visible": true,
      "provenance": [],
      "authorship_tag": "ABX9TyMBKWbRV9vV2K6OHUCiGiok",
      "include_colab_link": true
    },
    "kernelspec": {
      "display_name": "Python 3",
      "name": "python3"
    },
    "language_info": {
      "name": "python"
    }
  },
  "nbformat": 4,
  "nbformat_minor": 0
}