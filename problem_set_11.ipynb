{
  "nbformat": 4,
  "nbformat_minor": 0,
  "metadata": {
    "colab": {
      "provenance": [],
      "toc_visible": true,
      "authorship_tag": "ABX9TyMkPggT+cldm01ZxvAcdLdQ",
      "include_colab_link": true
    },
    "kernelspec": {
      "name": "python3",
      "display_name": "Python 3"
    },
    "language_info": {
      "name": "python"
    }
  },
  "cells": [
    {
      "cell_type": "markdown",
      "metadata": {
        "id": "view-in-github",
        "colab_type": "text"
      },
      "source": [
        "<a href=\"https://colab.research.google.com/github/mattany/IML/blob/main/problem_set_11.ipynb\" target=\"_parent\"><img src=\"https://colab.research.google.com/assets/colab-badge.svg\" alt=\"Open In Colab\"/></a>"
      ]
    },
    {
      "cell_type": "code",
      "execution_count": null,
      "metadata": {
        "colab": {
          "base_uri": "https://localhost:8080/",
          "height": 337
        },
        "id": "-Ny-2V-PtUS7",
        "outputId": "67f750e0-538c-4e0f-8687-c7de15699fb3"
      },
      "outputs": [
        {
          "output_type": "stream",
          "name": "stdout",
          "text": [
            "-1.8501269040082107 -85.1320509098058\n",
            "-142.02205499206417 177.62677399354573 -31.547673667727622 -26.76485109827155\n",
            "[(-256, 388.50043651629613), (256, -558.7645383359077)]\n",
            "[245.07710540267033, -119.20919974174183, -9.628941439451694, -157.9465828702348, 191.66962742225314, 24.549274837504242, -155.02158702135438, -34.21587686951307, 38.251223480847614, -127.20758662633966, -14.395454683790149, 137.14115814336787, 52.796751779076146, -4.612438808301192, -135.04055541565793, 108.34857009571147, -221.4678283262192, 211.1337238126739, 156.9976020114566, 31.43884819342759] [247.0182344175921, 146.70445308250476, 95.7639773094325, 233.1852190062471, 189.57350676938796, 188.94044806780687, -30.52739534809325, -129.18156671154242, 224.14772369082607, -167.47801557313898, -49.777366262099065, 195.05481705122838, 205.83959646499397, -134.57445622381755, 107.2208025726772, 126.34481064243141, -72.31718170382891, -255.1253055158918, -76.29091926794575, -200.8235718873862]\n"
          ]
        },
        {
          "output_type": "display_data",
          "data": {
            "text/plain": [
              "<Figure size 432x288 with 1 Axes>"
            ],
            "image/png": "[encoded data removed]"
          },
          "metadata": {
            "needs_background": "light"
          }
        }
      ],
      "source": [
        "import numpy as np\n",
        "import matplotlib.pyplot as plt\n",
        "\n",
        "\n",
        "def random_coord():\n",
        "  return 2**9 * np.random.random_sample() -2**8\n",
        "def random_dot():\n",
        "  return random_coord(), random_coord()\n",
        "def random_line():\n",
        "  x1, y1 = random_dot()\n",
        "  x2, y2 = random_dot()\n",
        "  m = (y2 - y1) / (x2 - x1)\n",
        "  n = y1 - m * x1\n",
        "  print(m,n)\n",
        "  print(x1,y1,x2,y2)\n",
        "  \n",
        "  return m, n\n",
        "\n",
        "def inputs():\n",
        "  return [random_coord() for _ in range(20)], [random_coord() for _ in range(20)]\n",
        "\n",
        "m, n = random_line()\n",
        "Xs = [-256,256]\n",
        "Ys = [-256*m + n, 256*m +n]\n",
        "print([i for i in zip(Xs, Ys)])\n",
        "\n",
        "fig = plt.figure()\n",
        "ax = fig.add_subplot(1, 1, 1)\n",
        "\n",
        "\n",
        "plt.xlim(-256, 256)\n",
        "plt.ylim(-256, 256)\n",
        "plt.gca().set_aspect('equal', adjustable='box')\n",
        "\n",
        "# Move left y-axis and bottim x-axis to centre, passing through (0,0)\n",
        "ax.spines['left'].set_position('zero')\n",
        "ax.spines['bottom'].set_position('zero')\n",
        "\n",
        "# Eliminate upper and right axes\n",
        "ax.spines['right'].set_color('none')\n",
        "ax.spines['top'].set_color('none')\n",
        "plt.plot(Xs, Ys)\n",
        "\n",
        "input_Xs, input_Ys = inputs()\n",
        "print(input_Xs, input_Ys)\n",
        "plt.scatter(input_Xs, input_Ys, color=\"red\")\n",
        "plt.show()"
      ]
    }
  ]
}